{
 "cells": [
  {
   "cell_type": "markdown",
   "metadata": {},
   "source": [
    "## 3. Distribuciones"
   ]
  },
  {
   "cell_type": "code",
   "execution_count": 1,
   "metadata": {},
   "outputs": [],
   "source": [
    "import matplotlib.pyplot as plt\n",
    "import numpy\n",
    "import pandas\n",
    "import seaborn"
   ]
  },
  {
   "cell_type": "code",
   "execution_count": 2,
   "metadata": {},
   "outputs": [],
   "source": [
    "dataset = pandas.read_csv('hfi_cc_2018.csv')"
   ]
  },
  {
   "cell_type": "code",
   "execution_count": 3,
   "metadata": {},
   "outputs": [],
   "source": [
    "important_cols = ['year', 'ISO_code', 'countries', 'region']\n",
    "important_cols += [col for col in dataset.columns if 'pf_identity' in col]\n",
    "important_cols += [\n",
    "    'ef_score', # Economic Freedom (score)\n",
    "    'ef_rank', # Economic Freedom (rank)\n",
    "    'hf_score', # Human Freedom (score)\n",
    "    'hf_rank', # Human Freedom (rank)\n",
    "]"
   ]
  },
  {
   "cell_type": "code",
   "execution_count": 4,
   "metadata": {},
   "outputs": [
    {
     "data": {
      "text/html": [
       "<div>\n",
       "<style scoped>\n",
       "    .dataframe tbody tr th:only-of-type {\n",
       "        vertical-align: middle;\n",
       "    }\n",
       "\n",
       "    .dataframe tbody tr th {\n",
       "        vertical-align: top;\n",
       "    }\n",
       "\n",
       "    .dataframe thead th {\n",
       "        text-align: right;\n",
       "    }\n",
       "</style>\n",
       "<table border=\"1\" class=\"dataframe\">\n",
       "  <thead>\n",
       "    <tr style=\"text-align: right;\">\n",
       "      <th></th>\n",
       "      <th>year</th>\n",
       "      <th>ISO_code</th>\n",
       "      <th>countries</th>\n",
       "      <th>region</th>\n",
       "      <th>pf_identity_legal</th>\n",
       "      <th>pf_identity_parental_marriage</th>\n",
       "      <th>pf_identity_parental_divorce</th>\n",
       "      <th>pf_identity_parental</th>\n",
       "      <th>pf_identity_sex_male</th>\n",
       "      <th>pf_identity_sex_female</th>\n",
       "      <th>pf_identity_sex</th>\n",
       "      <th>pf_identity_divorce</th>\n",
       "      <th>pf_identity</th>\n",
       "      <th>ef_score</th>\n",
       "      <th>ef_rank</th>\n",
       "      <th>hf_score</th>\n",
       "      <th>hf_rank</th>\n",
       "    </tr>\n",
       "  </thead>\n",
       "  <tbody>\n",
       "    <tr>\n",
       "      <th>0</th>\n",
       "      <td>2016</td>\n",
       "      <td>ALB</td>\n",
       "      <td>Albania</td>\n",
       "      <td>Eastern Europe</td>\n",
       "      <td>0.0</td>\n",
       "      <td>10.0</td>\n",
       "      <td>10.0</td>\n",
       "      <td>10.0</td>\n",
       "      <td>10.0</td>\n",
       "      <td>10.0</td>\n",
       "      <td>10.0</td>\n",
       "      <td>5.0</td>\n",
       "      <td>6.250000</td>\n",
       "      <td>7.54</td>\n",
       "      <td>34.0</td>\n",
       "      <td>7.568140</td>\n",
       "      <td>48.0</td>\n",
       "    </tr>\n",
       "    <tr>\n",
       "      <th>1</th>\n",
       "      <td>2016</td>\n",
       "      <td>DZA</td>\n",
       "      <td>Algeria</td>\n",
       "      <td>Middle East &amp; North Africa</td>\n",
       "      <td>NaN</td>\n",
       "      <td>0.0</td>\n",
       "      <td>5.0</td>\n",
       "      <td>2.5</td>\n",
       "      <td>0.0</td>\n",
       "      <td>0.0</td>\n",
       "      <td>0.0</td>\n",
       "      <td>0.0</td>\n",
       "      <td>0.833333</td>\n",
       "      <td>4.99</td>\n",
       "      <td>159.0</td>\n",
       "      <td>5.135886</td>\n",
       "      <td>155.0</td>\n",
       "    </tr>\n",
       "    <tr>\n",
       "      <th>2</th>\n",
       "      <td>2016</td>\n",
       "      <td>AGO</td>\n",
       "      <td>Angola</td>\n",
       "      <td>Sub-Saharan Africa</td>\n",
       "      <td>10.0</td>\n",
       "      <td>10.0</td>\n",
       "      <td>10.0</td>\n",
       "      <td>10.0</td>\n",
       "      <td>0.0</td>\n",
       "      <td>0.0</td>\n",
       "      <td>0.0</td>\n",
       "      <td>10.0</td>\n",
       "      <td>7.500000</td>\n",
       "      <td>5.17</td>\n",
       "      <td>155.0</td>\n",
       "      <td>5.640662</td>\n",
       "      <td>142.0</td>\n",
       "    </tr>\n",
       "    <tr>\n",
       "      <th>3</th>\n",
       "      <td>2016</td>\n",
       "      <td>ARG</td>\n",
       "      <td>Argentina</td>\n",
       "      <td>Latin America &amp; the Caribbean</td>\n",
       "      <td>10.0</td>\n",
       "      <td>10.0</td>\n",
       "      <td>10.0</td>\n",
       "      <td>10.0</td>\n",
       "      <td>10.0</td>\n",
       "      <td>10.0</td>\n",
       "      <td>10.0</td>\n",
       "      <td>10.0</td>\n",
       "      <td>10.000000</td>\n",
       "      <td>4.84</td>\n",
       "      <td>160.0</td>\n",
       "      <td>6.469848</td>\n",
       "      <td>107.0</td>\n",
       "    </tr>\n",
       "    <tr>\n",
       "      <th>4</th>\n",
       "      <td>2016</td>\n",
       "      <td>ARM</td>\n",
       "      <td>Armenia</td>\n",
       "      <td>Caucasus &amp; Central Asia</td>\n",
       "      <td>7.0</td>\n",
       "      <td>10.0</td>\n",
       "      <td>10.0</td>\n",
       "      <td>10.0</td>\n",
       "      <td>10.0</td>\n",
       "      <td>10.0</td>\n",
       "      <td>10.0</td>\n",
       "      <td>5.0</td>\n",
       "      <td>8.000000</td>\n",
       "      <td>7.57</td>\n",
       "      <td>29.0</td>\n",
       "      <td>7.241402</td>\n",
       "      <td>57.0</td>\n",
       "    </tr>\n",
       "  </tbody>\n",
       "</table>\n",
       "</div>"
      ],
      "text/plain": [
       "   year ISO_code  countries                         region  pf_identity_legal  \\\n",
       "0  2016      ALB    Albania                 Eastern Europe                0.0   \n",
       "1  2016      DZA    Algeria     Middle East & North Africa                NaN   \n",
       "2  2016      AGO     Angola             Sub-Saharan Africa               10.0   \n",
       "3  2016      ARG  Argentina  Latin America & the Caribbean               10.0   \n",
       "4  2016      ARM    Armenia        Caucasus & Central Asia                7.0   \n",
       "\n",
       "   pf_identity_parental_marriage  pf_identity_parental_divorce  \\\n",
       "0                           10.0                          10.0   \n",
       "1                            0.0                           5.0   \n",
       "2                           10.0                          10.0   \n",
       "3                           10.0                          10.0   \n",
       "4                           10.0                          10.0   \n",
       "\n",
       "   pf_identity_parental  pf_identity_sex_male  pf_identity_sex_female  \\\n",
       "0                  10.0                  10.0                    10.0   \n",
       "1                   2.5                   0.0                     0.0   \n",
       "2                  10.0                   0.0                     0.0   \n",
       "3                  10.0                  10.0                    10.0   \n",
       "4                  10.0                  10.0                    10.0   \n",
       "\n",
       "   pf_identity_sex  pf_identity_divorce  pf_identity  ef_score  ef_rank  \\\n",
       "0             10.0                  5.0     6.250000      7.54     34.0   \n",
       "1              0.0                  0.0     0.833333      4.99    159.0   \n",
       "2              0.0                 10.0     7.500000      5.17    155.0   \n",
       "3             10.0                 10.0    10.000000      4.84    160.0   \n",
       "4             10.0                  5.0     8.000000      7.57     29.0   \n",
       "\n",
       "   hf_score  hf_rank  \n",
       "0  7.568140     48.0  \n",
       "1  5.135886    155.0  \n",
       "2  5.640662    142.0  \n",
       "3  6.469848    107.0  \n",
       "4  7.241402     57.0  "
      ]
     },
     "execution_count": 4,
     "metadata": {},
     "output_type": "execute_result"
    }
   ],
   "source": [
    "w_dataset = dataset[important_cols]\n",
    "w_dataset.head()"
   ]
  },
  {
   "cell_type": "code",
   "execution_count": 5,
   "metadata": {},
   "outputs": [
    {
     "data": {
      "text/plain": [
       "count    1378.000000\n",
       "mean        7.334180\n",
       "std         3.159473\n",
       "min         0.000000\n",
       "25%         5.000000\n",
       "50%         9.166667\n",
       "75%        10.000000\n",
       "max        10.000000\n",
       "Name: pf_identity, dtype: float64"
      ]
     },
     "execution_count": 5,
     "metadata": {},
     "output_type": "execute_result"
    }
   ],
   "source": [
    "## Filtro por pf_identity remuevo los valores NaN\n",
    "pf_identity_cleaned = w_dataset['pf_identity'].dropna()\n",
    "## Una pequeña descripcion para saber con que valores estoy tratando\n",
    "pf_identity_cleaned.describe()"
   ]
  },
  {
   "cell_type": "code",
   "execution_count": 6,
   "metadata": {},
   "outputs": [
    {
     "data": {
      "text/plain": [
       "count    232.000000\n",
       "mean       8.765086\n",
       "std        1.711732\n",
       "min        5.000000\n",
       "25%        7.500000\n",
       "50%       10.000000\n",
       "75%       10.000000\n",
       "max       10.000000\n",
       "Name: pf_identity, dtype: float64"
      ]
     },
     "execution_count": 6,
     "metadata": {},
     "output_type": "execute_result"
    }
   ],
   "source": [
    "## Filtro Latam por region Latinoamerica y Caribe\n",
    "latam = w_dataset[w_dataset['region'] == 'Latin America & the Caribbean']\n",
    "## Filtro por pf_identity y remuevo valores NaN\n",
    "pf_identity_latam_cleaned = latam['pf_identity'].dropna()\n",
    "## Una pequeña descripcion para saber con que valores estoy tratando\n",
    "pf_identity_latam_cleaned.describe()"
   ]
  },
  {
   "cell_type": "markdown",
   "metadata": {},
   "source": [
    "**- Histograma de Distribucion de la variable *pf_identity***"
   ]
  },
  {
   "cell_type": "code",
   "execution_count": 7,
   "metadata": {},
   "outputs": [
    {
     "data": {
      "text/plain": [
       "<matplotlib.legend.Legend at 0x7ff3b40d7dd8>"
      ]
     },
     "execution_count": 7,
     "metadata": {},
     "output_type": "execute_result"
    },
    {
     "data": {
      "image/png": "[encoded data removed]",
      "text/plain": [
       "<Figure size 720x432 with 1 Axes>"
      ]
     },
     "metadata": {
      "needs_background": "light"
     },
     "output_type": "display_data"
    }
   ],
   "source": [
    "plt.figure(figsize=(10,6))\n",
    "\n",
    "## Grafico la distribucion del puntaje \"pf_identity\" a nivel Global \n",
    "seaborn.distplot(pf_identity_cleaned, kde=True, bins=5, label='Global')\n",
    "\n",
    "## Grafico la distribucion del puntaje \"pf_identity\" a nivel LatinoAmerica y Caribe \n",
    "seaborn.distplot(pf_identity_latam_cleaned, kde=True, bins=5, label='LatAm & Caribbean')\n",
    "seaborn.despine()\n",
    "\n",
    "plt.ylabel('Densidad de probabilidad')\n",
    "plt.legend()"
   ]
  },
  {
   "cell_type": "code",
   "execution_count": 8,
   "metadata": {},
   "outputs": [
    {
     "data": {
      "text/plain": [
       "count    1378.000000\n",
       "mean        6.993444\n",
       "std         1.025811\n",
       "min         3.765827\n",
       "25%         6.336685\n",
       "50%         6.923840\n",
       "75%         7.894660\n",
       "max         9.126313\n",
       "Name: hf_score, dtype: float64"
      ]
     },
     "execution_count": 8,
     "metadata": {},
     "output_type": "execute_result"
    }
   ],
   "source": [
    "## Filtro por hf_score remuevo los valores NaN\n",
    "hf_score_cleaned = w_dataset['hf_score'].dropna()\n",
    "## Una pequeña descripcion para saber con que valores estoy tratando\n",
    "hf_score_cleaned.describe()"
   ]
  },
  {
   "cell_type": "code",
   "execution_count": 9,
   "metadata": {},
   "outputs": [
    {
     "data": {
      "text/plain": [
       "count    232.000000\n",
       "mean       7.047982\n",
       "std        0.608904\n",
       "min        4.200724\n",
       "25%        6.779311\n",
       "50%        7.028045\n",
       "75%        7.339903\n",
       "max        8.290152\n",
       "Name: hf_score, dtype: float64"
      ]
     },
     "execution_count": 9,
     "metadata": {},
     "output_type": "execute_result"
    }
   ],
   "source": [
    "## Filtro Latam por hf_score y remuevo valores NaN\n",
    "hf_score_latam_cleaned = latam['hf_score'].dropna()\n",
    "## Una pequeña descripcion para saber con que valores estoy tratando\n",
    "hf_score_latam_cleaned.describe()"
   ]
  },
  {
   "cell_type": "markdown",
   "metadata": {},
   "source": [
    "**- Histograma de Distribucion de la variable *hf_score***"
   ]
  },
  {
   "cell_type": "code",
   "execution_count": 10,
   "metadata": {},
   "outputs": [
    {
     "data": {
      "text/plain": [
       "<matplotlib.legend.Legend at 0x7ff3b40fb668>"
      ]
     },
     "execution_count": 10,
     "metadata": {},
     "output_type": "execute_result"
    },
    {
     "data": {
      "image/png": "[encoded data removed]",
      "text/plain": [
       "<Figure size 720x432 with 1 Axes>"
      ]
     },
     "metadata": {
      "needs_background": "light"
     },
     "output_type": "display_data"
    }
   ],
   "source": [
    "plt.figure(figsize=(10,6))\n",
    "\n",
    "## Grafico la distribucion del puntaje \"hf_score\" a nivel Global \n",
    "seaborn.distplot(hf_score_cleaned, kde=True, bins=5, label='Global')\n",
    "\n",
    "## Grafico la distribucion del puntaje \"hf_score\" a nivel LatinoAmerica y Caribe \n",
    "seaborn.distplot(hf_score_latam_cleaned, kde=True, bins=5, label='LatAm & Caribbean')\n",
    "seaborn.despine()\n",
    "\n",
    "plt.ylabel('Densidad de probabilidad')\n",
    "plt.legend()"
   ]
  },
  {
   "cell_type": "markdown",
   "metadata": {},
   "source": [
    "**1. ¿Visualmente, a qué tipo de distribución corresponde cada variable? ¿Es correcto utilizar todos los registros para esas zonas en estos gráficos?**\n",
    "\n",
    "Parecería ser de distribucion Normal: mas sesgada en el caso de *pf_identity*. Mientras que en el caso de *hf_score*, la curva se asemeja más a una campana de Gauss \"clásica\".\n",
    "Lo que salta a la vista tras ver las los graficos es como si existiera una superposicion de 2 o más gaussianas, lo que insentiva a indagar un poco mas profundo en los registros. Se propone, entonces, presentar un par de nuevos graficos con los puntajes de cada pais de Latinoamerica y El Caribe y analizar así cuales de ellos son los responsables de \"deformar\" la curva normal clasica."
   ]
  },
  {
   "cell_type": "code",
   "execution_count": 51,
   "metadata": {},
   "outputs": [
    {
     "data": {
      "text/plain": [
       "(array([ 0,  1,  2,  3,  4,  5,  6,  7,  8,  9, 10, 11, 12, 13, 14, 15, 16,\n",
       "        17, 18, 19]), <a list of 20 Text xticklabel objects>)"
      ]
     },
     "execution_count": 51,
     "metadata": {},
     "output_type": "execute_result"
    },
    {
     "data": {
      "image/png": "[encoded data removed]",
      "text/plain": [
       "<Figure size 720x432 with 1 Axes>"
      ]
     },
     "metadata": {
      "needs_background": "light"
     },
     "output_type": "display_data"
    }
   ],
   "source": [
    "# Stripplot de la variable \"pf_identity\" para LatAm y el Caribe\n",
    "plt.figure(figsize=(10,6))\n",
    "seaborn.stripplot(data=latam.dropna(), x=\"countries\", y=\"pf_identity\", jitter=True)\n",
    "plt.xticks(rotation=90)\n",
    "#plt.ylim([0,10])"
   ]
  },
  {
   "cell_type": "markdown",
   "metadata": {},
   "source": [
    "Podemos observar como los paises se dividen en un grupo que poseen puntaje alto, otros puntaje medio, quedando Chile como outlier. Esto se corresponde con los 3 \"picos\" que vemos en el grafico de distribucion."
   ]
  },
  {
   "cell_type": "code",
   "execution_count": 49,
   "metadata": {},
   "outputs": [
    {
     "data": {
      "text/plain": [
       "(0, 10)"
      ]
     },
     "execution_count": 49,
     "metadata": {},
     "output_type": "execute_result"
    },
    {
     "data": {
      "image/png": "[encoded data removed]",
      "text/plain": [
       "<Figure size 720x432 with 1 Axes>"
      ]
     },
     "metadata": {
      "needs_background": "light"
     },
     "output_type": "display_data"
    }
   ],
   "source": [
    "## Boxplot de la variable \"hf_score\" para LatAm y el Caribe\n",
    "plt.figure(figsize=(10,6))\n",
    "seaborn.boxplot(data=latam.dropna(), x=\"countries\", y=\"hf_score\")\n",
    "plt.xticks(rotation=90)\n",
    "plt.ylim([0,10])"
   ]
  },
  {
   "cell_type": "markdown",
   "metadata": {},
   "source": [
    "En este caso, vemos como Venezuela esta claramente lejos del resto de los paises, correspondiendose con el \"pico\" mas bajo que vemos en el grafico de distribucion. Luego la gran mayoria de los paises se focalizan en valores medios-altos (el \"pico\" central) y vemos otra vez a Chile, esta vez acompañado por Uruguay, como poseen valores ligeramente por encima de la media, haciendo referencia de esta forma al pequeño abultamiento que vemos en la cola del gráfico de distribucion."
   ]
  },
  {
   "cell_type": "code",
   "execution_count": 70,
   "metadata": {},
   "outputs": [
    {
     "data": {
      "text/plain": [
       "KstestResult(statistic=0.3513672528496658, pvalue=4.08023938470139e-26)"
      ]
     },
     "execution_count": 70,
     "metadata": {},
     "output_type": "execute_result"
    }
   ],
   "source": [
    "from scipy import stats\n",
    "from sklearn import preprocessing\n",
    "## Prueba de Kolmogorov-Smirnof para *pf_identity* (latam)\n",
    "pf_identity_latam_cleaned_norm = preprocessing.scale(pf_identity_latam_cleaned)\n",
    "stats.kstest(pf_identity_latam_cleaned_norm, 'norm')"
   ]
  },
  {
   "cell_type": "code",
   "execution_count": 60,
   "metadata": {},
   "outputs": [
    {
     "data": {
      "text/plain": [
       "KstestResult(statistic=0.15003247403280606, pvalue=5.043599840583937e-05)"
      ]
     },
     "execution_count": 60,
     "metadata": {},
     "output_type": "execute_result"
    }
   ],
   "source": [
    "## Prueba de Kolmogorov-Smirnof para *hf_score* (latam)\n",
    "hf_score_latam_cleaned_norm = preprocessing.scale(hf_score_latam_cleaned)\n",
    "stats.kstest(hf_score_latam_cleaned_norm, 'norm')"
   ]
  },
  {
   "cell_type": "markdown",
   "metadata": {},
   "source": [
    "**2. Prueba de Kolmogorov-Smirnof**\n",
    "\n"
   ]
  },
  {
   "cell_type": "code",
   "execution_count": null,
   "metadata": {},
   "outputs": [],
   "source": []
  }
 ],
 "metadata": {
  "kernelspec": {
   "display_name": "Python 3",
   "language": "python",
   "name": "python3"
  },
  "language_info": {
   "codemirror_mode": {
    "name": "ipython",
    "version": 3
   },
   "file_extension": ".py",
   "mimetype": "text/x-python",
   "name": "python",
   "nbconvert_exporter": "python",
   "pygments_lexer": "ipython3",
   "version": "3.7.3"
  }
 },
 "nbformat": 4,
 "nbformat_minor": 2
}
